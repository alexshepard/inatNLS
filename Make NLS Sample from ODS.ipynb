{
 "cells": [
  {
   "cell_type": "code",
   "execution_count": 1,
   "id": "982f0a82-67e1-4480-bae1-9e48b0e2df2b",
   "metadata": {},
   "outputs": [],
   "source": [
    "from pathlib import Path\n",
    "\n",
    "import pandas as pd\n",
    "import numpy as np\n",
    "import geopandas as gpd\n",
    "import matplotlib.pyplot as plt"
   ]
  },
  {
   "cell_type": "code",
   "execution_count": 2,
   "id": "a1ed22a5-0346-46f7-a155-111a1bfc5d30",
   "metadata": {},
   "outputs": [],
   "source": [
    "inat_ods_dir = Path(\"/data-ssd/alex/datasets/inat-open-data/inaturalist-open-data-20240327/\")"
   ]
  },
  {
   "cell_type": "code",
   "execution_count": 3,
   "id": "74fe842c-75fc-4848-8289-43c9ba5cae62",
   "metadata": {},
   "outputs": [],
   "source": [
    "all_obs = pd.read_csv(\n",
    "    inat_ods_dir / \"observations.csv\",\n",
    "    sep=\"\\t\",\n",
    "    usecols=[\n",
    "        \"observation_uuid\", \n",
    "        \"observer_id\", \n",
    "        \"latitude\", \n",
    "        \"longitude\", \n",
    "        \"taxon_id\", \n",
    "        \"quality_grade\",\n",
    "        \"observed_on\",\n",
    "    ],\n",
    "    dtype={\n",
    "        \"quality_grade\": \"category\"\n",
    "    },\n",
    ")"
   ]
  },
  {
   "cell_type": "code",
   "execution_count": 4,
   "id": "dc64f556-78e2-42d6-98b2-8e6f55834859",
   "metadata": {},
   "outputs": [],
   "source": [
    "all_obs = all_obs.dropna()"
   ]
  },
  {
   "cell_type": "code",
   "execution_count": 5,
   "id": "2999cc72-51f8-4e14-b612-ef6747bf6ce5",
   "metadata": {},
   "outputs": [
    {
     "name": "stdout",
     "output_type": "stream",
     "text": [
      "<class 'pandas.core.frame.DataFrame'>\n",
      "Index: 131397505 entries, 0 to 133656233\n",
      "Data columns (total 7 columns):\n",
      " #   Column            Dtype   \n",
      "---  ------            -----   \n",
      " 0   observation_uuid  object  \n",
      " 1   observer_id       int64   \n",
      " 2   latitude          float64 \n",
      " 3   longitude         float64 \n",
      " 4   taxon_id          float64 \n",
      " 5   quality_grade     category\n",
      " 6   observed_on       object  \n",
      "dtypes: category(1), float64(3), int64(1), object(2)\n",
      "memory usage: 7.0+ GB\n"
     ]
    }
   ],
   "source": [
    "all_obs.info()"
   ]
  },
  {
   "cell_type": "markdown",
   "id": "5c505429-124f-4d50-b7cc-5962ef605796",
   "metadata": {},
   "source": [
    "# SAMPLE 1M GOOD OBSERVATIONS"
   ]
  },
  {
   "cell_type": "code",
   "execution_count": 6,
   "id": "b3e67d8c-5b71-4701-8df0-1a9e6bb6844e",
   "metadata": {},
   "outputs": [],
   "source": [
    "obs = all_obs.sample(1_000_000)"
   ]
  },
  {
   "cell_type": "code",
   "execution_count": 7,
   "id": "9bba31c6-01cb-4666-961d-609ab764c035",
   "metadata": {},
   "outputs": [
    {
     "name": "stdout",
     "output_type": "stream",
     "text": [
      "<class 'pandas.core.frame.DataFrame'>\n",
      "Index: 1000000 entries, 110649014 to 113060401\n",
      "Data columns (total 7 columns):\n",
      " #   Column            Non-Null Count    Dtype   \n",
      "---  ------            --------------    -----   \n",
      " 0   observation_uuid  1000000 non-null  object  \n",
      " 1   observer_id       1000000 non-null  int64   \n",
      " 2   latitude          1000000 non-null  float64 \n",
      " 3   longitude         1000000 non-null  float64 \n",
      " 4   taxon_id          1000000 non-null  float64 \n",
      " 5   quality_grade     1000000 non-null  category\n",
      " 6   observed_on       1000000 non-null  object  \n",
      "dtypes: category(1), float64(3), int64(1), object(2)\n",
      "memory usage: 54.4+ MB\n"
     ]
    }
   ],
   "source": [
    "obs.info()"
   ]
  },
  {
   "cell_type": "code",
   "execution_count": 8,
   "id": "ba9d0eff-2929-4a91-99e4-a6c3c8c06279",
   "metadata": {},
   "outputs": [],
   "source": [
    "# finish cleaning on our 1M sample\n",
    "obs.taxon_id = obs.taxon_id.astype(np.int32)\n",
    "obs.observer_id = obs.observer_id.astype(np.int32)\n",
    "\n",
    "# skipping this since i think elastic will do infer dates?\n",
    "#obs.observed_on = pd.to_datetime(obs.observed_on)"
   ]
  },
  {
   "cell_type": "markdown",
   "id": "a41d1812-716c-46e5-89bd-9c030b34140c",
   "metadata": {},
   "source": [
    "# join on world geo dataframe to get continent and country from lat and lng"
   ]
  },
  {
   "cell_type": "code",
   "execution_count": 9,
   "id": "d40c0264-3244-4b6f-9f09-b9e60b3a47ba",
   "metadata": {},
   "outputs": [],
   "source": [
    "obs_gdf = gpd.GeoDataFrame(\n",
    "    obs, geometry=gpd.points_from_xy(obs.longitude, obs.latitude), crs=\"EPSG:4326\"\n",
    ")"
   ]
  },
  {
   "cell_type": "code",
   "execution_count": 10,
   "id": "1721973a-b4ab-4dc7-9f13-7149e42aa599",
   "metadata": {},
   "outputs": [
    {
     "name": "stderr",
     "output_type": "stream",
     "text": [
      "/tmp/ipykernel_283618/3926210268.py:1: FutureWarning: The geopandas.dataset module is deprecated and will be removed in GeoPandas 1.0. You can get the original 'naturalearth_lowres' data from https://www.naturalearthdata.com/downloads/110m-cultural-vectors/.\n",
      "  world = gpd.read_file(gpd.datasets.get_path('naturalearth_lowres'))\n"
     ]
    }
   ],
   "source": [
    "world = gpd.read_file(gpd.datasets.get_path('naturalearth_lowres'))"
   ]
  },
  {
   "cell_type": "code",
   "execution_count": 11,
   "id": "0448e473-0beb-463b-9a9b-10fa83099074",
   "metadata": {},
   "outputs": [],
   "source": [
    "obs_gdf = gpd.sjoin(obs_gdf, world)"
   ]
  },
  {
   "cell_type": "code",
   "execution_count": 12,
   "id": "557a0c45-5f03-49f4-8cde-ac70a1d96559",
   "metadata": {},
   "outputs": [],
   "source": [
    "obs_gdf = obs_gdf[[\n",
    "    \"observation_uuid\",\n",
    "    \"observer_id\",\n",
    "    \"taxon_id\",\n",
    "    \"quality_grade\",\n",
    "    \"observed_on\",\n",
    "    \"continent\",\n",
    "    \"name\",\n",
    "]]"
   ]
  },
  {
   "cell_type": "code",
   "execution_count": 13,
   "id": "ac3fabc1-57fc-4f5a-a7e6-c201f1c767db",
   "metadata": {},
   "outputs": [],
   "source": [
    "obs_gdf.rename({\"name\": \"country_name\"}, axis=1, inplace=True)"
   ]
  },
  {
   "cell_type": "code",
   "execution_count": 14,
   "id": "9e65fb05-11fe-4a5f-a117-2d73c7aed4c4",
   "metadata": {},
   "outputs": [
    {
     "data": {
      "text/plain": [
       "continent\n",
       "North America              540413\n",
       "Europe                     201072\n",
       "Asia                        56951\n",
       "Oceania                     56093\n",
       "South America               39181\n",
       "Africa                      29490\n",
       "Antarctica                     23\n",
       "Seven seas (open ocean)         1\n",
       "Name: count, dtype: int64"
      ]
     },
     "execution_count": 14,
     "metadata": {},
     "output_type": "execute_result"
    }
   ],
   "source": [
    "obs_gdf.continent.value_counts()"
   ]
  },
  {
   "cell_type": "code",
   "execution_count": 15,
   "id": "8de423dd-3d4f-4c75-a586-6fc8c6f59b18",
   "metadata": {},
   "outputs": [
    {
     "data": {
      "text/html": [
       "<div>\n",
       "<style scoped>\n",
       "    .dataframe tbody tr th:only-of-type {\n",
       "        vertical-align: middle;\n",
       "    }\n",
       "\n",
       "    .dataframe tbody tr th {\n",
       "        vertical-align: top;\n",
       "    }\n",
       "\n",
       "    .dataframe thead th {\n",
       "        text-align: right;\n",
       "    }\n",
       "</style>\n",
       "<table border=\"1\" class=\"dataframe\">\n",
       "  <thead>\n",
       "    <tr style=\"text-align: right;\">\n",
       "      <th></th>\n",
       "      <th>observation_uuid</th>\n",
       "      <th>observer_id</th>\n",
       "      <th>taxon_id</th>\n",
       "      <th>quality_grade</th>\n",
       "      <th>observed_on</th>\n",
       "      <th>continent</th>\n",
       "      <th>country_name</th>\n",
       "    </tr>\n",
       "  </thead>\n",
       "  <tbody>\n",
       "    <tr>\n",
       "      <th>73869876</th>\n",
       "      <td>3e422ebd-7dc6-470b-9d20-141b47adb56d</td>\n",
       "      <td>2675493</td>\n",
       "      <td>48957</td>\n",
       "      <td>research</td>\n",
       "      <td>2022-05-17</td>\n",
       "      <td>North America</td>\n",
       "      <td>United States of America</td>\n",
       "    </tr>\n",
       "    <tr>\n",
       "      <th>26916547</th>\n",
       "      <td>2389e476-035d-4cff-80c9-2926fb2fa115</td>\n",
       "      <td>2882121</td>\n",
       "      <td>4993</td>\n",
       "      <td>research</td>\n",
       "      <td>2019-06-29</td>\n",
       "      <td>Asia</td>\n",
       "      <td>India</td>\n",
       "    </tr>\n",
       "    <tr>\n",
       "      <th>109357878</th>\n",
       "      <td>69c3e941-5a96-4a1e-a73e-48113628d03a</td>\n",
       "      <td>6961643</td>\n",
       "      <td>54704</td>\n",
       "      <td>needs_id</td>\n",
       "      <td>2023-06-25</td>\n",
       "      <td>Europe</td>\n",
       "      <td>Austria</td>\n",
       "    </tr>\n",
       "  </tbody>\n",
       "</table>\n",
       "</div>"
      ],
      "text/plain": [
       "                               observation_uuid  observer_id  taxon_id  \\\n",
       "73869876   3e422ebd-7dc6-470b-9d20-141b47adb56d      2675493     48957   \n",
       "26916547   2389e476-035d-4cff-80c9-2926fb2fa115      2882121      4993   \n",
       "109357878  69c3e941-5a96-4a1e-a73e-48113628d03a      6961643     54704   \n",
       "\n",
       "          quality_grade observed_on      continent              country_name  \n",
       "73869876       research  2022-05-17  North America  United States of America  \n",
       "26916547       research  2019-06-29           Asia                     India  \n",
       "109357878      needs_id  2023-06-25         Europe                   Austria  "
      ]
     },
     "execution_count": 15,
     "metadata": {},
     "output_type": "execute_result"
    }
   ],
   "source": [
    "obs_gdf.sample(3)"
   ]
  },
  {
   "cell_type": "markdown",
   "id": "db676456-1c59-4e67-9b31-d733e77da151",
   "metadata": {},
   "source": [
    "# merge in the rest of the ods export to get taxonomy, photos, and observer login names"
   ]
  },
  {
   "cell_type": "code",
   "execution_count": 16,
   "id": "8f2a87e4-b4c8-468b-9fb3-a98c2ed3674d",
   "metadata": {},
   "outputs": [],
   "source": [
    "tax = pd.read_csv(\n",
    "    inat_ods_dir / \"taxa.csv\",\n",
    "    sep=\"\\t\",\n",
    "    usecols=[\"taxon_id\", \"ancestry\", \"name\", \"active\"],\n",
    ")"
   ]
  },
  {
   "cell_type": "code",
   "execution_count": 17,
   "id": "2f6a76f8-ab61-4f38-98c3-6eb9ef730de6",
   "metadata": {},
   "outputs": [],
   "source": [
    "tax = tax[tax.active==True]\n",
    "tax = tax.dropna()"
   ]
  },
  {
   "cell_type": "code",
   "execution_count": 18,
   "id": "2a76c69a-0d73-4f72-a42d-d039904ac4b4",
   "metadata": {},
   "outputs": [],
   "source": [
    "tax.rename({\"name\": \"taxon_name\"}, axis=1, inplace=True)\n",
    "tax = tax[[\"taxon_id\", \"taxon_name\", \"ancestry\"]]"
   ]
  },
  {
   "cell_type": "code",
   "execution_count": 19,
   "id": "791f08c0-218b-4949-807f-eba2074d425d",
   "metadata": {},
   "outputs": [
    {
     "data": {
      "text/html": [
       "<div>\n",
       "<style scoped>\n",
       "    .dataframe tbody tr th:only-of-type {\n",
       "        vertical-align: middle;\n",
       "    }\n",
       "\n",
       "    .dataframe tbody tr th {\n",
       "        vertical-align: top;\n",
       "    }\n",
       "\n",
       "    .dataframe thead th {\n",
       "        text-align: right;\n",
       "    }\n",
       "</style>\n",
       "<table border=\"1\" class=\"dataframe\">\n",
       "  <thead>\n",
       "    <tr style=\"text-align: right;\">\n",
       "      <th></th>\n",
       "      <th>taxon_id</th>\n",
       "      <th>taxon_name</th>\n",
       "      <th>ancestry</th>\n",
       "    </tr>\n",
       "  </thead>\n",
       "  <tbody>\n",
       "    <tr>\n",
       "      <th>524932</th>\n",
       "      <td>584825</td>\n",
       "      <td>Erica eustacei</td>\n",
       "      <td>48460/47126/211194/47125/47124/47181/133387/63...</td>\n",
       "    </tr>\n",
       "    <tr>\n",
       "      <th>680818</th>\n",
       "      <td>732043</td>\n",
       "      <td>Turdus plumbeus schistaceus</td>\n",
       "      <td>48460/1/2/355675/3/7251/15977/12705/12718</td>\n",
       "    </tr>\n",
       "    <tr>\n",
       "      <th>1131990</th>\n",
       "      <td>1170696</td>\n",
       "      <td>Amphioplus causatus</td>\n",
       "      <td>48460/1/47549/481959/48836/774983/774984/77498...</td>\n",
       "    </tr>\n",
       "  </tbody>\n",
       "</table>\n",
       "</div>"
      ],
      "text/plain": [
       "         taxon_id                   taxon_name  \\\n",
       "524932     584825               Erica eustacei   \n",
       "680818     732043  Turdus plumbeus schistaceus   \n",
       "1131990   1170696          Amphioplus causatus   \n",
       "\n",
       "                                                  ancestry  \n",
       "524932   48460/47126/211194/47125/47124/47181/133387/63...  \n",
       "680818           48460/1/2/355675/3/7251/15977/12705/12718  \n",
       "1131990  48460/1/47549/481959/48836/774983/774984/77498...  "
      ]
     },
     "execution_count": 19,
     "metadata": {},
     "output_type": "execute_result"
    }
   ],
   "source": [
    "tax.sample(3)"
   ]
  },
  {
   "cell_type": "code",
   "execution_count": 20,
   "id": "c2c065a1-d462-46ce-8af0-a27f6ed26441",
   "metadata": {},
   "outputs": [],
   "source": [
    "observers = pd.read_csv(\n",
    "    inat_ods_dir / \"observers.csv\",\n",
    "    sep=\"\\t\",\n",
    "    usecols=[\"observer_id\", \"login\"],\n",
    ")\n",
    "observers.rename({\"login\": \"observer_login\"}, axis=1, inplace=True)\n"
   ]
  },
  {
   "cell_type": "code",
   "execution_count": 21,
   "id": "a86ba212-3145-4f8e-82f3-661d1dde9054",
   "metadata": {},
   "outputs": [
    {
     "data": {
      "text/html": [
       "<div>\n",
       "<style scoped>\n",
       "    .dataframe tbody tr th:only-of-type {\n",
       "        vertical-align: middle;\n",
       "    }\n",
       "\n",
       "    .dataframe tbody tr th {\n",
       "        vertical-align: top;\n",
       "    }\n",
       "\n",
       "    .dataframe thead th {\n",
       "        text-align: right;\n",
       "    }\n",
       "</style>\n",
       "<table border=\"1\" class=\"dataframe\">\n",
       "  <thead>\n",
       "    <tr style=\"text-align: right;\">\n",
       "      <th></th>\n",
       "      <th>observer_id</th>\n",
       "      <th>observer_login</th>\n",
       "    </tr>\n",
       "  </thead>\n",
       "  <tbody>\n",
       "    <tr>\n",
       "      <th>667504</th>\n",
       "      <td>6712072</td>\n",
       "      <td>christopherantoniou</td>\n",
       "    </tr>\n",
       "    <tr>\n",
       "      <th>290931</th>\n",
       "      <td>3329606</td>\n",
       "      <td>eaceelgrassteam</td>\n",
       "    </tr>\n",
       "    <tr>\n",
       "      <th>218708</th>\n",
       "      <td>2726218</td>\n",
       "      <td>jstout</td>\n",
       "    </tr>\n",
       "  </tbody>\n",
       "</table>\n",
       "</div>"
      ],
      "text/plain": [
       "        observer_id       observer_login\n",
       "667504      6712072  christopherantoniou\n",
       "290931      3329606      eaceelgrassteam\n",
       "218708      2726218               jstout"
      ]
     },
     "execution_count": 21,
     "metadata": {},
     "output_type": "execute_result"
    }
   ],
   "source": [
    "observers.sample(3)"
   ]
  },
  {
   "cell_type": "code",
   "execution_count": 22,
   "id": "44b7b58f-4a24-41d0-b13c-016f0534e1e1",
   "metadata": {},
   "outputs": [],
   "source": [
    "photos = pd.read_csv(\n",
    "    inat_ods_dir / \"photos.csv\",\n",
    "    sep=\"\\t\",\n",
    "    usecols=[\"photo_id\", \"observation_uuid\", \"extension\"],\n",
    "    dtype={\n",
    "        \"photo_id\": np.int32,\n",
    "        \"extension\": \"category\",\n",
    "    }\n",
    ")"
   ]
  },
  {
   "cell_type": "code",
   "execution_count": 23,
   "id": "a2d45b38-edff-45b8-a2a7-5b5578608042",
   "metadata": {},
   "outputs": [
    {
     "name": "stdout",
     "output_type": "stream",
     "text": [
      "<class 'pandas.core.frame.DataFrame'>\n",
      "RangeIndex: 233050418 entries, 0 to 233050417\n",
      "Data columns (total 3 columns):\n",
      " #   Column            Dtype   \n",
      "---  ------            -----   \n",
      " 0   photo_id          int32   \n",
      " 1   observation_uuid  object  \n",
      " 2   extension         category\n",
      "dtypes: category(1), int32(1), object(1)\n",
      "memory usage: 2.8+ GB\n"
     ]
    }
   ],
   "source": [
    "photos.info()"
   ]
  },
  {
   "cell_type": "code",
   "execution_count": 24,
   "id": "75b695ee-7a4c-49e8-845e-4c63ba59fa26",
   "metadata": {},
   "outputs": [
    {
     "data": {
      "text/html": [
       "<div>\n",
       "<style scoped>\n",
       "    .dataframe tbody tr th:only-of-type {\n",
       "        vertical-align: middle;\n",
       "    }\n",
       "\n",
       "    .dataframe tbody tr th {\n",
       "        vertical-align: top;\n",
       "    }\n",
       "\n",
       "    .dataframe thead th {\n",
       "        text-align: right;\n",
       "    }\n",
       "</style>\n",
       "<table border=\"1\" class=\"dataframe\">\n",
       "  <thead>\n",
       "    <tr style=\"text-align: right;\">\n",
       "      <th></th>\n",
       "      <th>photo_id</th>\n",
       "      <th>observation_uuid</th>\n",
       "      <th>extension</th>\n",
       "    </tr>\n",
       "  </thead>\n",
       "  <tbody>\n",
       "    <tr>\n",
       "      <th>106420910</th>\n",
       "      <td>169473886</td>\n",
       "      <td>57a10b4a-59a8-4377-b254-14480b179c9b</td>\n",
       "      <td>jpg</td>\n",
       "    </tr>\n",
       "    <tr>\n",
       "      <th>29504216</th>\n",
       "      <td>49880332</td>\n",
       "      <td>4db62dec-c278-41e6-b922-e4822c033c16</td>\n",
       "      <td>jpg</td>\n",
       "    </tr>\n",
       "    <tr>\n",
       "      <th>72587975</th>\n",
       "      <td>117306198</td>\n",
       "      <td>92c14a8d-f2eb-4581-bc1e-17ae196e4023</td>\n",
       "      <td>jpeg</td>\n",
       "    </tr>\n",
       "  </tbody>\n",
       "</table>\n",
       "</div>"
      ],
      "text/plain": [
       "            photo_id                      observation_uuid extension\n",
       "106420910  169473886  57a10b4a-59a8-4377-b254-14480b179c9b       jpg\n",
       "29504216    49880332  4db62dec-c278-41e6-b922-e4822c033c16       jpg\n",
       "72587975   117306198  92c14a8d-f2eb-4581-bc1e-17ae196e4023      jpeg"
      ]
     },
     "execution_count": 24,
     "metadata": {},
     "output_type": "execute_result"
    }
   ],
   "source": [
    "photos.sample(3)"
   ]
  },
  {
   "cell_type": "code",
   "execution_count": 25,
   "id": "81766b7d-f56d-4255-b948-b0211d8b4057",
   "metadata": {},
   "outputs": [],
   "source": [
    "obs_with_photos = pd.merge(\n",
    "    obs_gdf, photos, left_on=\"observation_uuid\", right_on=\"observation_uuid\",\n",
    ")"
   ]
  },
  {
   "cell_type": "code",
   "execution_count": 26,
   "id": "152749c8-56ba-4be4-9b8b-72e29f298ed4",
   "metadata": {},
   "outputs": [],
   "source": [
    "obs_photos_with_taxa = pd.merge(\n",
    "    obs_with_photos, tax, left_on=\"taxon_id\", right_on=\"taxon_id\"\n",
    ")"
   ]
  },
  {
   "cell_type": "code",
   "execution_count": 27,
   "id": "5a3e0906-2ce7-46d2-9a21-82779329040f",
   "metadata": {},
   "outputs": [],
   "source": [
    "obs_photos_taxa_with_observers = pd.merge(\n",
    "    obs_photos_with_taxa, observers, left_on=\"observer_id\", right_on=\"observer_id\"\n",
    ")"
   ]
  },
  {
   "cell_type": "code",
   "execution_count": 28,
   "id": "da8d8e22-4060-40e2-a25a-60cc49e93e96",
   "metadata": {},
   "outputs": [
    {
     "name": "stdout",
     "output_type": "stream",
     "text": [
      "<class 'pandas.core.frame.DataFrame'>\n",
      "RangeIndex: 1615620 entries, 0 to 1615619\n",
      "Data columns (total 12 columns):\n",
      " #   Column            Non-Null Count    Dtype   \n",
      "---  ------            --------------    -----   \n",
      " 0   observation_uuid  1615620 non-null  object  \n",
      " 1   observer_id       1615620 non-null  int32   \n",
      " 2   taxon_id          1615620 non-null  int32   \n",
      " 3   quality_grade     1615620 non-null  category\n",
      " 4   observed_on       1615620 non-null  object  \n",
      " 5   continent         1615620 non-null  object  \n",
      " 6   country_name      1615620 non-null  object  \n",
      " 7   photo_id          1615620 non-null  int32   \n",
      " 8   extension         1615620 non-null  category\n",
      " 9   taxon_name        1615620 non-null  object  \n",
      " 10  ancestry          1615620 non-null  object  \n",
      " 11  observer_login    1615620 non-null  object  \n",
      "dtypes: category(2), int32(3), object(7)\n",
      "memory usage: 107.9+ MB\n"
     ]
    }
   ],
   "source": [
    "obs_photos_taxa_with_observers.info()"
   ]
  },
  {
   "cell_type": "code",
   "execution_count": 29,
   "id": "23e75c94-8b95-4136-a6b6-053c26dc2c63",
   "metadata": {},
   "outputs": [
    {
     "data": {
      "text/plain": [
       "1615620"
      ]
     },
     "execution_count": 29,
     "metadata": {},
     "output_type": "execute_result"
    }
   ],
   "source": [
    "len(obs_photos_taxa_with_observers)"
   ]
  },
  {
   "cell_type": "code",
   "execution_count": 30,
   "id": "857317e7-9f2a-42f5-b5ec-34ac8843d49a",
   "metadata": {},
   "outputs": [],
   "source": [
    "obs_photos_taxa_with_observers.to_csv(\n",
    "    inat_ods_dir / \"complete_1M_obs_sample.csv\",\n",
    "    index=False,\n",
    ")"
   ]
  },
  {
   "cell_type": "code",
   "execution_count": null,
   "id": "4890da08-b077-4a21-8099-6566838bff87",
   "metadata": {},
   "outputs": [],
   "source": []
  },
  {
   "cell_type": "code",
   "execution_count": null,
   "id": "8800607d-1cdb-47be-8738-96e4cac880d7",
   "metadata": {},
   "outputs": [],
   "source": []
  }
 ],
 "metadata": {
  "kernelspec": {
   "display_name": "Python 3 (ipykernel)",
   "language": "python",
   "name": "python3"
  },
  "language_info": {
   "codemirror_mode": {
    "name": "ipython",
    "version": 3
   },
   "file_extension": ".py",
   "mimetype": "text/x-python",
   "name": "python",
   "nbconvert_exporter": "python",
   "pygments_lexer": "ipython3",
   "version": "3.10.12"
  }
 },
 "nbformat": 4,
 "nbformat_minor": 5
}
